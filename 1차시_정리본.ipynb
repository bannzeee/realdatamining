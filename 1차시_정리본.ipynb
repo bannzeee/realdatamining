{
  "nbformat": 4,
  "nbformat_minor": 0,
  "metadata": {
    "colab": {
      "provenance": []
    },
    "kernelspec": {
      "name": "python3",
      "display_name": "Python 3"
    },
    "language_info": {
      "name": "python"
    }
  },
  "cells": [
    {
      "cell_type": "code",
      "execution_count": null,
      "metadata": {
        "colab": {
          "base_uri": "https://localhost:8080/"
        },
        "id": "Codo5DYB9FBT",
        "outputId": "6d0db27d-7965-4add-b6c8-8ef462a467b5"
      },
      "outputs": [
        {
          "output_type": "stream",
          "name": "stdout",
          "text": [
            "DM 수업입니다\n"
          ]
        }
      ],
      "source": [
        "=print(\"DM 수업입니다\")"
      ]
    },
    {
      "cell_type": "markdown",
      "source": [
        "**리스트와 튜플의 공통점**\n",
        "\n",
        "---\n",
        "\n",
        "\n",
        "(1) 길이를 갖는다\n",
        "\n",
        "---\n",
        "튜플과 리스트는 길이가 있다. 따라서 len 함수를 사용할 수 있다.\n"
      ],
      "metadata": {
        "id": "HMh2JlpD9-iC"
      }
    },
    {
      "cell_type": "code",
      "source": [
        "a = [1,2,3]\n",
        "b = (1,2,3)\n",
        "\n",
        "print('a의 길이 : ', len(a))\n",
        "print('b의 길이 : ', len(b))"
      ],
      "metadata": {
        "colab": {
          "base_uri": "https://localhost:8080/"
        },
        "id": "7jnrf_AQ9K2i",
        "outputId": "f72e3093-6aba-4762-a048-ca5fb8ec8bf2"
      },
      "execution_count": null,
      "outputs": [
        {
          "output_type": "stream",
          "name": "stdout",
          "text": [
            "a의 길이 :  3\n",
            "b의 길이 :  3\n"
          ]
        }
      ]
    },
    {
      "cell_type": "markdown",
      "source": [
        "(2) 언패킹이 가능하다\n",
        "\n",
        "---\n",
        "\n",
        "언패킹 : 여러 변수를 한 번에 할당하는 것"
      ],
      "metadata": {
        "id": "nkbCtogM-XBv"
      }
    },
    {
      "cell_type": "code",
      "source": [
        "a = [1,2,3] #리스트\n",
        "b = (4,5,6) #튜플\n",
        "\n",
        "type(a)\n",
        "type(b)\n",
        "\n",
        "print(a)\n",
        "print(b)\n",
        "\n",
        "#언패킹\n",
        "x1, x2, x3 = a\n",
        "y1, y2, y3 = b\n",
        "\n",
        "print(x1, x2, x3)\n",
        "print(y1, y2, y3)"
      ],
      "metadata": {
        "colab": {
          "base_uri": "https://localhost:8080/"
        },
        "id": "dQToBzwL9bJ9",
        "outputId": "86eb1218-efa4-46d2-c813-316123dd5db7"
      },
      "execution_count": null,
      "outputs": [
        {
          "output_type": "stream",
          "name": "stdout",
          "text": [
            "[1, 2, 3]\n",
            "(4, 5, 6)\n",
            "1 2 3\n",
            "4 5 6\n"
          ]
        }
      ]
    },
    {
      "cell_type": "markdown",
      "source": [
        "(3) index, count 함수를 사용할 수 있다.\n",
        "\n",
        "---\n",
        "\n",
        "튜플과 리스트는 객체 내부에 index와 count를 사용할 수 있다."
      ],
      "metadata": {
        "id": "x_1Jubj0_LE8"
      }
    },
    {
      "cell_type": "code",
      "source": [
        "a = [1,1,3]\n",
        "b = (4,5,5,5)\n",
        "\n",
        "print(a.index(3)) #리스트 a에서 3의 인덱스는? (위치는?)\n",
        "print(a.count(1)) #리스트 a에서 1의 등장 횟수\n",
        "\n",
        "print(b.index(4)) #튜플 b에서 7의 인덱스?\n",
        "print(b.count(5)) #튜플 b에서 9의 등장 횟수"
      ],
      "metadata": {
        "colab": {
          "base_uri": "https://localhost:8080/"
        },
        "id": "4iL_3C7W91gI",
        "outputId": "7c39b65f-b435-4ce0-cb64-5e69e08ffe13"
      },
      "execution_count": null,
      "outputs": [
        {
          "output_type": "stream",
          "name": "stdout",
          "text": [
            "2\n",
            "2\n",
            "0\n",
            "3\n"
          ]
        }
      ]
    },
    {
      "cell_type": "markdown",
      "source": [
        "**리스트와 튜플의 차이점**\n",
        "\n",
        "---\n",
        "(1) 선언 방식이 다르다\n",
        "\n",
        "---\n",
        "\n",
        "\n",
        "리스트는 각 괄호 []를 이용하고 두 개 이상의 원소를 갖는다면 콤마로 구분해줘야 한다. 하지만 튜플은 괄호 ()를 사용한다. *만약 원소가 한 개인 경우에는 반드시 뒤에 콤마를 붙여주어야 한다.*"
      ],
      "metadata": {
        "id": "LsbugkCA_b5Q"
      }
    },
    {
      "cell_type": "code",
      "source": [
        "a = [3]\n",
        "b = (3,)\n",
        "c = [3,4,5]\n",
        "d = (3,4,5)\n",
        "e = (3)\n",
        "\n",
        "print(a)\n",
        "print(b)\n",
        "print(c)\n",
        "print(d)\n",
        "print(e)"
      ],
      "metadata": {
        "colab": {
          "base_uri": "https://localhost:8080/"
        },
        "id": "tVfttZJY_2pd",
        "outputId": "fb21143d-7944-4ae6-dfe1-5975bcc4afb7"
      },
      "execution_count": null,
      "outputs": [
        {
          "output_type": "stream",
          "name": "stdout",
          "text": [
            "[3]\n",
            "(3,)\n",
            "[3, 4, 5]\n",
            "(3, 4, 5)\n",
            "3\n"
          ]
        }
      ]
    },
    {
      "cell_type": "markdown",
      "source": [
        "(2) 리스트는 가변이지만 튜플은 불변이다.\n",
        "\n",
        "---\n",
        "리스트는 append, insert 같은 함수가 있어서 리스트에 원소를 추가할 수 있으며 sort를 이용하여 내부적으로 정렬도 할 수 있다. 따라서 리스트는 변할 수 있는 가변성을 띄고 있다. 하지만 튜플은 불변이라 튜플을 바꾸는 함수가 없다.\n"
      ],
      "metadata": {
        "id": "OwUxP5eWAUuf"
      }
    },
    {
      "cell_type": "code",
      "source": [
        "a = [1,2,3]\n",
        "a[0] = 4\n",
        "print(a)"
      ],
      "metadata": {
        "colab": {
          "base_uri": "https://localhost:8080/"
        },
        "id": "a6wVThiWAYI7",
        "outputId": "9b1b5f19-9af2-4ad3-ff76-83bedb12a5fc"
      },
      "execution_count": null,
      "outputs": [
        {
          "output_type": "stream",
          "name": "stdout",
          "text": [
            "[4, 2, 3]\n"
          ]
        }
      ]
    },
    {
      "cell_type": "code",
      "source": [
        "b = (1,2,3)\n",
        "b[0] = 4\n",
        "print(b)"
      ],
      "metadata": {
        "colab": {
          "base_uri": "https://localhost:8080/",
          "height": 216
        },
        "id": "DP_Ndff3AX8s",
        "outputId": "f0b945c9-75db-4833-e75c-0a84a9c24f00"
      },
      "execution_count": null,
      "outputs": [
        {
          "output_type": "error",
          "ename": "TypeError",
          "evalue": "'tuple' object does not support item assignment",
          "traceback": [
            "\u001b[0;31m---------------------------------------------------------------------------\u001b[0m",
            "\u001b[0;31mTypeError\u001b[0m                                 Traceback (most recent call last)",
            "\u001b[0;32m<ipython-input-8-e654d057e2db>\u001b[0m in \u001b[0;36m<cell line: 2>\u001b[0;34m()\u001b[0m\n\u001b[1;32m      1\u001b[0m \u001b[0mb\u001b[0m \u001b[0;34m=\u001b[0m \u001b[0;34m(\u001b[0m\u001b[0;36m1\u001b[0m\u001b[0;34m,\u001b[0m\u001b[0;36m2\u001b[0m\u001b[0;34m,\u001b[0m\u001b[0;36m3\u001b[0m\u001b[0;34m)\u001b[0m\u001b[0;34m\u001b[0m\u001b[0;34m\u001b[0m\u001b[0m\n\u001b[0;32m----> 2\u001b[0;31m \u001b[0mb\u001b[0m\u001b[0;34m[\u001b[0m\u001b[0;36m0\u001b[0m\u001b[0;34m]\u001b[0m \u001b[0;34m=\u001b[0m \u001b[0;36m4\u001b[0m\u001b[0;34m\u001b[0m\u001b[0;34m\u001b[0m\u001b[0m\n\u001b[0m\u001b[1;32m      3\u001b[0m \u001b[0mprint\u001b[0m\u001b[0;34m(\u001b[0m\u001b[0mb\u001b[0m\u001b[0;34m)\u001b[0m\u001b[0;34m\u001b[0m\u001b[0;34m\u001b[0m\u001b[0m\n",
            "\u001b[0;31mTypeError\u001b[0m: 'tuple' object does not support item assignment"
          ]
        }
      ]
    },
    {
      "cell_type": "markdown",
      "source": [
        "(3) 튜플이 더 적은 메모리를 차지한다."
      ],
      "metadata": {
        "id": "GgE0upHNA6aY"
      }
    },
    {
      "cell_type": "code",
      "source": [
        "from sys import getsizeof\n",
        "\n",
        "a = [1,2,3]\n",
        "b = (1,2,3)\n",
        "\n",
        "print(f'리스트 a의 용량 : {getsizeof(a)} 바이트')\n",
        "print(f'튜플 b의 용량 : {getsizeof(b)} 바이트')"
      ],
      "metadata": {
        "colab": {
          "base_uri": "https://localhost:8080/"
        },
        "id": "3rrwQ3ryA3tw",
        "outputId": "fae3d8b5-34fc-481b-9134-06ae021a944b"
      },
      "execution_count": null,
      "outputs": [
        {
          "output_type": "stream",
          "name": "stdout",
          "text": [
            "리스트 a의 용량 : 88 바이트\n",
            "튜플 b의 용량 : 64 바이트\n"
          ]
        }
      ]
    },
    {
      "cell_type": "markdown",
      "source": [
        "f-string : f'문자열'\n",
        "---\n",
        "문자열 내부에 변수의 내용을 사용할 경우 {변수}\n",
        "\n",
        "---\n",
        "\n",
        "문자열 내부에 실수인 변수를 소수점 처리할 경우 {실수변수:.소수점자리f}\n"
      ],
      "metadata": {
        "id": "2nrGgJmrBxRz"
      }
    },
    {
      "cell_type": "code",
      "source": [
        "#문자열\n",
        "company = '현대'\n",
        "\n",
        "#정수형\n",
        "sale = 551\n",
        "\n",
        "#실수형\n",
        "rate = 46.525\n",
        "\n",
        "#출력\n",
        "print('자동차의 판매량은  이고,  %점유율을 차지한다')\n",
        "print('{company} 자동차의 판매량은  이고,  %점유율을 차지한다')\n",
        "print(f'{company} 자동차의 판매량은  이고,  %점유율을 차지한다')"
      ],
      "metadata": {
        "colab": {
          "base_uri": "https://localhost:8080/"
        },
        "id": "cyDKl8C4BZst",
        "outputId": "aed1f97c-ac42-49a3-cd8e-475650a618bf"
      },
      "execution_count": null,
      "outputs": [
        {
          "output_type": "stream",
          "name": "stdout",
          "text": [
            "자동차의 판매량은  이고,  %점유율을 차지한다\n",
            "{company} 자동차의 판매량은  이고,  %점유율을 차지한다\n",
            "현대 자동차의 판매량은  이고,  %점유율을 차지한다\n"
          ]
        }
      ]
    },
    {
      "cell_type": "markdown",
      "source": [
        "Quiz\n",
        "\n",
        "---\n",
        "f스트링을 활용하여 판매량, 점유율(소수 첫째자리 표시)이 반영되도록 코딩을 완성하라.\n"
      ],
      "metadata": {
        "id": "LJJLx2VoCSo7"
      }
    },
    {
      "cell_type": "code",
      "source": [
        "company = '현대'\n",
        "sale = 551\n",
        "rate = 46.525\n",
        "\n",
        "print(f'{company} 자동차의 판매량은 {sale}이고, {rate: .1f} %점유율을 차지한다.')"
      ],
      "metadata": {
        "colab": {
          "base_uri": "https://localhost:8080/"
        },
        "id": "bf1IWhZtCbna",
        "outputId": "6f34f2ba-1094-4464-e4db-04cbe8a57f1f"
      },
      "execution_count": null,
      "outputs": [
        {
          "output_type": "stream",
          "name": "stdout",
          "text": [
            "현대 자동차의 판매량은 551이고,  46.5 %점유율을 차지한다.\n"
          ]
        }
      ]
    },
    {
      "cell_type": "markdown",
      "source": [
        "컬렉션 자료형\n",
        "\n",
        "---\n",
        "\n",
        "sequence(리스트, 튜플, 문자열) : list, [], 위치값(순서)으로 접근\n",
        "\n",
        "---\n",
        "\n",
        "none sequence(집합, dictionary) : 딕셔너리, {}, 키와 값으로 접근"
      ],
      "metadata": {
        "id": "E8hK_twnCxBM"
      }
    },
    {
      "cell_type": "code",
      "source": [
        "lt = [1,3,5]\n",
        "lt[0]"
      ],
      "metadata": {
        "colab": {
          "base_uri": "https://localhost:8080/"
        },
        "id": "4bIHjBb7DP9H",
        "outputId": "fd54b03b-598c-44f7-c9d0-17a3b6a2fc80"
      },
      "execution_count": null,
      "outputs": [
        {
          "output_type": "execute_result",
          "data": {
            "text/plain": [
              "1"
            ]
          },
          "metadata": {},
          "execution_count": 12
        }
      ]
    },
    {
      "cell_type": "code",
      "source": [
        "#리스트\n",
        "company = ['현대','기아','르노삼성','쌍용','쉐보레']\n",
        "sale = [551,388,56,59,132]\n",
        "\n",
        "#요소접근\n",
        "print(f'  자동차의 판매량은   입니다.')\n",
        "\n",
        "#내장함수 사용\n",
        "print(f'판매량의 평균은   입니다.')"
      ],
      "metadata": {
        "colab": {
          "base_uri": "https://localhost:8080/"
        },
        "id": "GOwu5yG8DYU5",
        "outputId": "16092337-65ec-4269-90c8-416a7e1d0bcb"
      },
      "execution_count": null,
      "outputs": [
        {
          "output_type": "stream",
          "name": "stdout",
          "text": [
            "  자동차의 판매량은   입니다.\n",
            "판매량의 평균은   입니다.\n"
          ]
        }
      ]
    },
    {
      "cell_type": "code",
      "source": [
        "#리스트\n",
        "company = ['현대','기아','르노삼성','쌍용','쉐보레']\n",
        "sale = [551,388,56,59,132]\n",
        "\n",
        "#요소접근\n",
        "print(f'{company[0]} 자동차의 판매량은 {sale[0]} 입니다.')\n",
        "\n",
        "#내장함수 사용\n",
        "print(f'판매량의 평균은 {sum(sale)/len(sale) : .1f}  입니다.')"
      ],
      "metadata": {
        "colab": {
          "base_uri": "https://localhost:8080/"
        },
        "id": "Q0-EHqZED2Sw",
        "outputId": "e50b0904-1674-4f7a-b824-a7cfd3fca47e"
      },
      "execution_count": null,
      "outputs": [
        {
          "output_type": "stream",
          "name": "stdout",
          "text": [
            "현대 자동차의 판매량은 551 입니다.\n",
            "판매량의 평균은  237.2  입니다.\n"
          ]
        }
      ]
    },
    {
      "cell_type": "markdown",
      "source": [
        "# **점유율 구하기** 어려움 ㅠㅠ"
      ],
      "metadata": {
        "id": "UEUSmH3tErcB"
      }
    },
    {
      "cell_type": "code",
      "source": [
        "#리스트\n",
        "company = ['현대','기아','르노삼성','쌍용','쉐보레']\n",
        "sale = [551,388,56,59,132]\n",
        "\n",
        "#점유율 리스트 생성 (비어있는 상태)\n",
        "rate = []\n",
        "\n",
        "#전체 판매율 계산\n",
        "total = sum(sale)\n",
        "\n",
        "#점유율 구하기 (점유율 리스트 채우기)\n",
        "for idx in range(len(sale)) : #0부터4까지1씩증가\n",
        "  #리스트에 반올림하여 자료 추가 (append함수)\n",
        "  rate.append(round(sale[idx]/total*100,1)) #round(변수,소수점반올림자릿수)\n",
        "\n",
        "#출력\n",
        "print(f'시장점유율(%) : {rate}')"
      ],
      "metadata": {
        "colab": {
          "base_uri": "https://localhost:8080/"
        },
        "id": "REzbF3SIEdwS",
        "outputId": "a757debc-8662-49d8-eb40-6d2dc914fe60"
      },
      "execution_count": null,
      "outputs": [
        {
          "output_type": "stream",
          "name": "stdout",
          "text": [
            "시장점유율(%) : [46.5, 32.7, 4.7, 5.0, 11.1]\n"
          ]
        }
      ]
    },
    {
      "cell_type": "markdown",
      "source": [
        "# **QQQQ**\n",
        "\n",
        "---\n",
        "\n",
        "total을 정의 안했는데 왜 결과가 나오는지?"
      ],
      "metadata": {
        "id": "HX7b_bsHIRrR"
      }
    },
    {
      "cell_type": "code",
      "source": [
        "#방법2 : 컬렉션 형태\n",
        "sale = [551,388,56,59,132]\n",
        "rate = []\n",
        "\n",
        "for item in sale :\n",
        "  rate.append(round(item / total *100,1))\n",
        "\n",
        "print(f'시장점유율(%): {rate}')"
      ],
      "metadata": {
        "colab": {
          "base_uri": "https://localhost:8080/"
        },
        "id": "iobs6JpSG1AW",
        "outputId": "7d0c5df2-3f83-4d7b-b15b-1ff12f2de7f4"
      },
      "execution_count": null,
      "outputs": [
        {
          "output_type": "stream",
          "name": "stdout",
          "text": [
            "시장점유율(%): [46.5, 32.7, 4.7, 5.0, 11.1]\n"
          ]
        }
      ]
    },
    {
      "cell_type": "markdown",
      "source": [
        "Quiz : 에러코드 확인 후, 수정하세요"
      ],
      "metadata": {
        "id": "YU4LHk0gIbmt"
      }
    },
    {
      "cell_type": "code",
      "source": [
        "#딕셔너리 (키, 값으로 구분)\n",
        "company = ['현대','기아','르노삼성','쌍용','쉐보레']\n",
        "sale = [551,388,56,59,132]\n",
        "\n",
        "#리스트를 결합하여 딕셔너리 생성\n",
        "carData = dict(zip(company,sale)) #zip(리스트1,리스트2) 리스트 결합\n",
        "\n",
        "#딕셔너리 확인\n",
        "print(carData)\n",
        "\n",
        "#현대 판매량\n",
        "print(f'현대자동차의 판매량은 {carData ['현대']} 입니다')"
      ],
      "metadata": {
        "colab": {
          "base_uri": "https://localhost:8080/",
          "height": 108
        },
        "id": "gHtkui4EIYCW",
        "outputId": "09b2411b-0eec-4bbf-df0b-974b0aa72668"
      },
      "execution_count": null,
      "outputs": [
        {
          "output_type": "error",
          "ename": "SyntaxError",
          "evalue": "f-string: unmatched '[' (<ipython-input-19-33afda0f4b48>, line 12)",
          "traceback": [
            "\u001b[0;36m  File \u001b[0;32m\"<ipython-input-19-33afda0f4b48>\"\u001b[0;36m, line \u001b[0;32m12\u001b[0m\n\u001b[0;31m    print(f'현대자동차의 판매량은 {carData ['현대']} 입니다')\u001b[0m\n\u001b[0m                                   ^\u001b[0m\n\u001b[0;31mSyntaxError\u001b[0m\u001b[0;31m:\u001b[0m f-string: unmatched '['\n"
          ]
        }
      ]
    },
    {
      "cell_type": "markdown",
      "source": [
        "오류 수정!! f'문자열' 에서는 \"를 사용 왜냐하면 '문자열'애서 이미 ''를 사용중이기 때문에"
      ],
      "metadata": {
        "id": "sYU856BWKmtZ"
      }
    },
    {
      "cell_type": "code",
      "source": [
        "#딕셔너리 (키, 값으로 구분)\n",
        "company = ['현대','기아','르노삼성','쌍용','쉐보레']\n",
        "sale = [551,388,56,59,132]\n",
        "\n",
        "#리스트를 결합하여 딕셔너리 생성\n",
        "carData = dict(zip(company,sale)) #zip(리스트1,리스트2) 리스트 결합\n",
        "\n",
        "#딕셔너리 확인\n",
        "print(carData)\n",
        "\n",
        "\n",
        "print(f'현대자동차의 판매량은 {carData [\"현대\"]} 입니다')"
      ],
      "metadata": {
        "colab": {
          "base_uri": "https://localhost:8080/"
        },
        "id": "056rYL8DKF8X",
        "outputId": "0316a07e-f6e2-4748-8c70-f8599595d2f8"
      },
      "execution_count": null,
      "outputs": [
        {
          "output_type": "stream",
          "name": "stdout",
          "text": [
            "{'현대': 551, '기아': 388, '르노삼성': 56, '쌍용': 59, '쉐보레': 132}\n",
            "현대자동차의 판매량은 551 입니다\n"
          ]
        }
      ]
    },
    {
      "cell_type": "code",
      "source": [
        "company = ['현대','기아','르노삼성','쌍용','쉐보레']\n",
        "sale = [551,388,56,59,132]\n",
        "\n",
        "carData = dict(zip(company,sale))\n",
        "\n",
        "#key, value를 리스트로 생성 : 에러코드 확인\n",
        "print(f'{carData.key()}')\n",
        "print(f' {carData.value()}')"
      ],
      "metadata": {
        "colab": {
          "base_uri": "https://localhost:8080/",
          "height": 233
        },
        "id": "39U7WfTXKlOn",
        "outputId": "f47f9900-aa4d-48ef-ca7d-afedffdff446"
      },
      "execution_count": null,
      "outputs": [
        {
          "output_type": "error",
          "ename": "AttributeError",
          "evalue": "'dict' object has no attribute 'key'",
          "traceback": [
            "\u001b[0;31m---------------------------------------------------------------------------\u001b[0m",
            "\u001b[0;31mAttributeError\u001b[0m                            Traceback (most recent call last)",
            "\u001b[0;32m<ipython-input-23-9877b56d31a2>\u001b[0m in \u001b[0;36m<cell line: 7>\u001b[0;34m()\u001b[0m\n\u001b[1;32m      5\u001b[0m \u001b[0;34m\u001b[0m\u001b[0m\n\u001b[1;32m      6\u001b[0m \u001b[0;31m#key, value를 리스트로 생성 : 에러코드 확인\u001b[0m\u001b[0;34m\u001b[0m\u001b[0;34m\u001b[0m\u001b[0m\n\u001b[0;32m----> 7\u001b[0;31m \u001b[0mprint\u001b[0m\u001b[0;34m(\u001b[0m\u001b[0;34mf'{carData.key()}'\u001b[0m\u001b[0;34m)\u001b[0m\u001b[0;34m\u001b[0m\u001b[0;34m\u001b[0m\u001b[0m\n\u001b[0m\u001b[1;32m      8\u001b[0m \u001b[0mprint\u001b[0m\u001b[0;34m(\u001b[0m\u001b[0;34mf' {carData.value()}'\u001b[0m\u001b[0;34m)\u001b[0m\u001b[0;34m\u001b[0m\u001b[0;34m\u001b[0m\u001b[0m\n",
            "\u001b[0;31mAttributeError\u001b[0m: 'dict' object has no attribute 'key'"
          ]
        }
      ]
    },
    {
      "cell_type": "code",
      "source": [
        "company = ['현대','기아','르노삼성','쌍용','쉐보레']\n",
        "sale = [551,388,56,59,132]\n",
        "\n",
        "carData = dict(zip(company,sale))\n",
        "\n",
        "#key, value를 리스트로 생성 : 에러코드 수정\n",
        "print(f'키: {carData.keys()}')\n",
        "print(f'값:  {carData.values()}')"
      ],
      "metadata": {
        "colab": {
          "base_uri": "https://localhost:8080/"
        },
        "id": "5JSNMWmkLVlZ",
        "outputId": "e62c3e66-859d-4047-d147-ab04d21720e4"
      },
      "execution_count": null,
      "outputs": [
        {
          "output_type": "stream",
          "name": "stdout",
          "text": [
            "키: dict_keys(['현대', '기아', '르노삼성', '쌍용', '쉐보레'])\n",
            "값:  dict_values([551, 388, 56, 59, 132])\n"
          ]
        }
      ]
    },
    {
      "cell_type": "code",
      "source": [
        "company = ['현대','기아','르노삼성','쌍용','쉐보레']\n",
        "sale = [551,388,56,59,132]\n",
        "\n",
        "carData = dict(zip(company,sale))\n",
        "\n",
        "#리스트 형태로 변환\n",
        "print(f'키: {list(carData.keys())}')\n",
        "print(f'값:  {list(carData.values())}')"
      ],
      "metadata": {
        "colab": {
          "base_uri": "https://localhost:8080/"
        },
        "id": "J4jgYi2sLxeU",
        "outputId": "108d0ad0-f70d-4c09-8621-4e2838609a34"
      },
      "execution_count": null,
      "outputs": [
        {
          "output_type": "stream",
          "name": "stdout",
          "text": [
            "키: ['현대', '기아', '르노삼성', '쌍용', '쉐보레']\n",
            "값:  [551, 388, 56, 59, 132]\n"
          ]
        }
      ]
    },
    {
      "cell_type": "code",
      "source": [
        "company = ['현대','기아','르노삼성','쌍용','쉐보레']\n",
        "sale = [551,388,56,59,132]\n",
        "\n",
        "carData = dict(zip(company,sale))\n",
        "\n",
        "#딕셔너리 값의 합계 구하기\n",
        "total = sum(carData.values())\n",
        "\n",
        "#딕셔너리 전체요소 접근(1) : key로 접근\n",
        "for k in carData :\n",
        "  print(k,carData[k]) #catData[k]= k번째(key)의 값(value)"
      ],
      "metadata": {
        "colab": {
          "base_uri": "https://localhost:8080/"
        },
        "id": "jPUwEwlrMD_Q",
        "outputId": "5a893053-9d11-4da6-938f-b5bb089d0f31"
      },
      "execution_count": null,
      "outputs": [
        {
          "output_type": "stream",
          "name": "stdout",
          "text": [
            "현대 551\n",
            "기아 388\n",
            "르노삼성 56\n",
            "쌍용 59\n",
            "쉐보레 132\n"
          ]
        }
      ]
    },
    {
      "cell_type": "code",
      "source": [
        "company = ['현대','기아','르노삼성','쌍용','쉐보레']\n",
        "sale = [551,388,56,59,132]\n",
        "\n",
        "carData = dict(zip(company,sale))\n",
        "\n",
        "#딕셔너리 전체요소 접근(2) : items함수 활용, list 형식으로\n",
        "for [k,v] in carData.items():\n",
        "  print(k,v)"
      ],
      "metadata": {
        "colab": {
          "base_uri": "https://localhost:8080/"
        },
        "id": "5xShPSoKNN26",
        "outputId": "ee8118ea-930b-4fe6-9987-4a7d8364f944"
      },
      "execution_count": null,
      "outputs": [
        {
          "output_type": "stream",
          "name": "stdout",
          "text": [
            "현대 551\n",
            "기아 388\n",
            "르노삼성 56\n",
            "쌍용 59\n",
            "쉐보레 132\n"
          ]
        }
      ]
    },
    {
      "cell_type": "code",
      "source": [
        "#딕셔너리 값의 한계 구하기\n",
        "total = sum(carData.values())\n",
        "\n",
        "for [k,v] in carData.items() :\n",
        "  r = round(v/total*100,1)\n",
        "  print(f'{k}: 판매량은 {v},점유율은 {r:.1f}%입니다.')"
      ],
      "metadata": {
        "colab": {
          "base_uri": "https://localhost:8080/"
        },
        "id": "bBeF6eyiNo0b",
        "outputId": "d4416d08-a5c3-46c8-c8a2-043487d57f69"
      },
      "execution_count": null,
      "outputs": [
        {
          "output_type": "stream",
          "name": "stdout",
          "text": [
            "현대: 판매량은 551,점유율은 46.5%입니다.\n",
            "기아: 판매량은 388,점유율은 32.7%입니다.\n",
            "르노삼성: 판매량은 56,점유율은 4.7%입니다.\n",
            "쌍용: 판매량은 59,점유율은 5.0%입니다.\n",
            "쉐보레: 판매량은 132,점유율은 11.1%입니다.\n"
          ]
        }
      ]
    },
    {
      "cell_type": "code",
      "source": [
        "#점유율 딕셔너리\n",
        "rateDt = {}\n",
        "\n",
        "#딕셔너리 값의 합계\n",
        "total = sum(carData.values())\n",
        "\n",
        "#딕셔너리 전체요소 접근\n",
        "for [k, v] in carData.items() :\n",
        "  r = round(v/total*100,1)\n",
        "  rateDt[k] = r\n",
        "\n",
        "print(f'점유율 Dictionary : {rateDt}')"
      ],
      "metadata": {
        "colab": {
          "base_uri": "https://localhost:8080/"
        },
        "id": "i80fImkpOoBC",
        "outputId": "3948e474-1027-49aa-a20e-c47821e41f94"
      },
      "execution_count": null,
      "outputs": [
        {
          "output_type": "stream",
          "name": "stdout",
          "text": [
            "점유율 Dictionary : {'현대': 46.5, '기아': 32.7, '르노삼성': 4.7, '쌍용': 5.0, '쉐보레': 11.1}\n"
          ]
        }
      ]
    },
    {
      "cell_type": "code",
      "source": [
        "for [k,v] in carData.items() :\n",
        "  print(f'{k} : 판매량은 {v}, 점유율은 {rateDt[k]:.1f}% 입니다.')"
      ],
      "metadata": {
        "colab": {
          "base_uri": "https://localhost:8080/"
        },
        "id": "OtS4s1lKPGb4",
        "outputId": "22c115ff-bbd0-433e-fb5e-73317945e6a9"
      },
      "execution_count": null,
      "outputs": [
        {
          "output_type": "stream",
          "name": "stdout",
          "text": [
            "현대 : 판매량은 551, 점유율은 46.5% 입니다.\n",
            "기아 : 판매량은 388, 점유율은 32.7% 입니다.\n",
            "르노삼성 : 판매량은 56, 점유율은 4.7% 입니다.\n",
            "쌍용 : 판매량은 59, 점유율은 5.0% 입니다.\n",
            "쉐보레 : 판매량은 132, 점유율은 11.1% 입니다.\n"
          ]
        }
      ]
    },
    {
      "cell_type": "markdown",
      "source": [],
      "metadata": {
        "id": "S4zvZSJYPGK8"
      }
    }
  ]
}