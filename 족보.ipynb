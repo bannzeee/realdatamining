{
  "nbformat": 4,
  "nbformat_minor": 0,
  "metadata": {
    "colab": {
      "provenance": []
    },
    "kernelspec": {
      "name": "python3",
      "display_name": "Python 3"
    },
    "language_info": {
      "name": "python"
    }
  },
  "cells": [
    {
      "cell_type": "markdown",
      "source": [
        "1. 학생수준평가 시험에서 영어 점수와 수학 점수가 합해서 100점이 넘으면 합격(PASS)이지만, 한 과목 점수가 40점 미만이라면 과목 미달로 불합격(FAIL)이다. 영어, 수학 점수를 입력받아 합격 여부를 출력한다\n",
        "\n",
        "---\n",
        "입력 : 첫 번째 입력값이 영어점수 두 번째 입력값이 수학점수이다\n",
        "\n",
        "---\n",
        "\n",
        "출력 : 각 점수에 따라 결과가 다르게 출력된다\n",
        "\n",
        "---\n",
        "\n",
        "sample 1 In: 65 75 Out : PASS\n",
        "\n",
        "---\n",
        "\n",
        "sample 1 In: 35 69 Out : ENG FAIL\n"
      ],
      "metadata": {
        "id": "Q8heisCeCheY"
      }
    },
    {
      "cell_type": "code",
      "source": [
        "1번\n",
        "english = int(input())\n",
        "math = int(input())\n",
        "\n",
        "def scores(english, math):\n",
        "total = english + math\n",
        "\n",
        "if total >= 100:\n",
        "  if english >= 40 and math >= 40:\n",
        "    return \"PASS\"\n",
        "  elif english < 40:\n",
        "    return \"ENG FAIL\"\n",
        "  else:\n",
        "    return \"MATH FAIL\"\n",
        "else:\n",
        "  return \"FAIL\"\n",
        "\n",
        "final = scores(english,math)\n",
        "print(final)"
      ],
      "metadata": {
        "id": "KJpNNX5eEGTZ"
      },
      "execution_count": null,
      "outputs": []
    },
    {
      "cell_type": "markdown",
      "source": [
        "2. N개의 숫자가 공백없이 입력된다. 이 숫자를 모두 합쳐서 합을 출력하는 프로그램을 작성하시오.\n",
        "\n",
        "---\n",
        "입력 : 첫째 줄에 숫자 N개가 공백없이 주어진다\n",
        "\n",
        "---\n",
        "출력 : 입력으로 주어진 숫자 N개의 합을 출력한다\n",
        "\n",
        "---\n",
        "\n",
        "sample 1 In: 1 Out : 1\n",
        "\n",
        "\n"
      ],
      "metadata": {
        "id": "mPhBZwJTDEwd"
      }
    },
    {
      "cell_type": "code",
      "source": [
        "[2번]\n",
        "number = input()\n",
        "\n",
        "total = sum(int(x) for x in number)\n",
        "\n",
        "print(total)"
      ],
      "metadata": {
        "id": "YtWp5LvbHRjP"
      },
      "execution_count": null,
      "outputs": []
    },
    {
      "cell_type": "markdown",
      "source": [
        "3. 다음 리스트에서 확장자가 png나 jpg인 파일명, 확장자를 출력하는 파이썬 코드를 작성하세요\n",
        "\n",
        "---\n",
        "입력 : 첫째 줄에 숫자 N이 주어진다. 둘째 줄부터 N줄에는 파일명이 하나씩 주어진다.\n",
        "\n",
        "---\n",
        "\n",
        "(힌트: a=[input()for _ in range()] 또는 map 함수)\n",
        "\n",
        "---\n",
        "\n",
        "출력 : 결과가 리스트로 출력된다\n",
        "\n",
        "---\n",
        "\n",
        "sample 1\n",
        "4\n",
        "alpha.hwp\n",
        "bravo.doc\n",
        "charlie.xlxs\n",
        "delta.jpg\n",
        "Out : ['delta.jpg']\n",
        "\n",
        "---\n",
        "\n",
        "sample2\n",
        "9\n",
        "alpha.hwp\n",
        "bravo.doc\n",
        "charlie.xlxs\n",
        "delta.jpg\n",
        "echo.png\n",
        "foxtrot.ppt\n",
        "golf.pdf\n",
        "hotel.html\n",
        "india.txt\n",
        "Out :['delta.jpg','echo.png']\n"
      ],
      "metadata": {
        "id": "nEDIW4-6DWT3"
      }
    },
    {
      "cell_type": "code",
      "source": [
        "# 파일의 개수를 입력받습니다.\n",
        "N = int(input())\n",
        "\n",
        "# 파일명을 입력받아 리스트에 저장합니다.\n",
        "names = [input() for _ in range(N)]\n",
        "\n",
        "# 확장자가 \"png\"이나 \"jpg\"인 파일명을 결과 리스트에 저장합니다.\n",
        "result = [name for name in names if name.endswith(\".png\") or name.endswith(\".jpg\")]\n",
        "\n",
        "# 결과 리스트를 출력합니다.\n",
        "print(result)"
      ],
      "metadata": {
        "id": "EJ3HixfaKlT1"
      },
      "execution_count": null,
      "outputs": []
    }
  ]
}