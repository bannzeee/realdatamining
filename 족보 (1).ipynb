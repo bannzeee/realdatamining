{
  "nbformat": 4,
  "nbformat_minor": 0,
  "metadata": {
    "colab": {
      "provenance": []
    },
    "kernelspec": {
      "name": "python3",
      "display_name": "Python 3"
    },
    "language_info": {
      "name": "python"
    }
  },
  "cells": [
    {
      "cell_type": "code",
      "source": [],
      "metadata": {
        "id": "ZqB-YepbKZmC"
      },
      "execution_count": null,
      "outputs": []
    },
    {
      "cell_type": "markdown",
      "source": [
        "1. 학생수준평가 시험에서 영어 점수와 수학 점수가 합해서 100점이 넘으면 합격(PASS)이지만, 한 과목 점수가 40점 미만이라면 과목 미달로 불합격(FAIL)이다. 영어, 수학 점수를 입력받아 합격 여부를 출력한다\n",
        "\n",
        "---\n",
        "입력 : 첫 번째 입력값이 영어점수 두 번째 입력값이 수학점수이다\n",
        "\n",
        "---\n",
        "\n",
        "출력 : 각 점수에 따라 결과가 다르게 출력된다\n",
        "\n",
        "---\n",
        "\n",
        "sample 1 In: 65 75 Out : PASS\n",
        "\n",
        "---\n",
        "\n",
        "sample 1 In: 35 69 Out : ENG FAIL\n"
      ],
      "metadata": {
        "id": "Q8heisCeCheY"
      }
    },
    {
      "cell_type": "code",
      "source": [
        "eng = int(input())\n",
        "math = int(input())\n",
        "\n",
        "def scores(eng,math):\n",
        "  total = eng + math\n",
        "\n",
        "  if total >= 100:\n",
        "    if eng >=40 and math >= 40:\n",
        "      return \"PASS\"\n",
        "    elif eng < 40:\n",
        "      return \"ENG FAIL\"\n",
        "    else:\n",
        "      return \"MATH FAIL\"\n",
        "  else :\n",
        "    return \"FAIL\"\n",
        "\n",
        "final = scores(eng,math)\n",
        "print(final)"
      ],
      "metadata": {
        "id": "SKSrwWNSNhH5",
        "colab": {
          "base_uri": "https://localhost:8080/"
        },
        "outputId": "96c2cfeb-c10f-4d67-85bc-52dab8c8dfb4"
      },
      "execution_count": 6,
      "outputs": [
        {
          "output_type": "stream",
          "name": "stdout",
          "text": [
            "35\n",
            "69\n",
            "ENG FAIL\n"
          ]
        }
      ]
    },
    {
      "cell_type": "markdown",
      "source": [
        "2. N개의 숫자가 공백없이 입력된다. 이 숫자를 모두 합쳐서 합을 출력하는 프로그램을 작성하시오.\n",
        "\n",
        "---\n",
        "입력 : 첫째 줄에 숫자 N개가 공백없이 주어진다\n",
        "\n",
        "---\n",
        "출력 : 입력으로 주어진 숫자 N개의 합을 출력한다\n",
        "\n",
        "---\n",
        "\n",
        "sample 1 In: 1 Out : 1\n",
        "\n",
        "\n"
      ],
      "metadata": {
        "id": "mPhBZwJTDEwd"
      }
    },
    {
      "cell_type": "code",
      "source": [
        "numbers = input()\n",
        "#문자열 리스트를 출력하면 한 글자씩 나온다는 걸 이용하기 !!!!\n",
        "total = sum(int(x) for x in numbers)\n",
        "print(total)"
      ],
      "metadata": {
        "colab": {
          "base_uri": "https://localhost:8080/"
        },
        "id": "vbvuU5kON0ks",
        "outputId": "0e21a83a-6256-453f-a1ab-690c5fb32006"
      },
      "execution_count": 7,
      "outputs": [
        {
          "output_type": "stream",
          "name": "stdout",
          "text": [
            "1829\n",
            "20\n"
          ]
        }
      ]
    },
    {
      "cell_type": "markdown",
      "source": [
        "3. 다음 리스트에서 확장자가 png나 jpg인 파일명, 확장자를 출력하는 파이썬 코드를 작성하세요\n",
        "\n",
        "---\n",
        "입력 : 첫째 줄에 숫자 N이 주어진다. 둘째 줄부터 N줄에는 파일명이 하나씩 주어진다.\n",
        "\n",
        "---\n",
        "\n",
        "(힌트: a=[input()for _ in range()] 또는 map 함수)\n",
        "\n",
        "---\n",
        "\n",
        "출력 : 결과가 리스트로 출력된다\n",
        "\n",
        "---\n",
        "\n",
        "sample 1\n",
        "4\n",
        "alpha.hwp\n",
        "bravo.doc\n",
        "charlie.xlxs\n",
        "delta.jpg\n",
        "Out : ['delta.jpg']\n",
        "\n",
        "---\n",
        "\n",
        "sample2\n",
        "9\n",
        "alpha.hwp\n",
        "bravo.doc\n",
        "charlie.xlxs\n",
        "delta.jpg\n",
        "echo.png\n",
        "foxtrot.ppt\n",
        "golf.pdf\n",
        "hotel.html\n",
        "india.txt\n",
        "Out :['delta.jpg','echo.png']\n"
      ],
      "metadata": {
        "id": "nEDIW4-6DWT3"
      }
    },
    {
      "cell_type": "code",
      "source": [
        "N = int(input())\n",
        "\n",
        "names = [input() for _ in range(N)]\n",
        "\n",
        "result = [name for name in names if name.endswith(\".png\") or name.endswith(\".jpg\")]\n",
        "\n",
        "print(result)"
      ],
      "metadata": {
        "id": "EJ3HixfaKlT1",
        "colab": {
          "base_uri": "https://localhost:8080/"
        },
        "outputId": "39607809-91df-4afc-b42f-1cac83a723e2"
      },
      "execution_count": 9,
      "outputs": [
        {
          "output_type": "stream",
          "name": "stdout",
          "text": [
            "4\n",
            "alpha.hwp\n",
            "bravo.doc\n",
            "charlie.xlxs\n",
            "delta.jpg\n",
            "['delta.jpg']\n"
          ]
        }
      ]
    },
    {
      "cell_type": "code",
      "source": [
        "N = int(input())\n",
        "\n",
        "names = [input() for _ in range(N)]\n",
        "\n",
        "result = [name for name in names if name.endswith(\".png\") or name.endswith(\".jpg\")]\n",
        "\n",
        "print(result)"
      ],
      "metadata": {
        "colab": {
          "base_uri": "https://localhost:8080/"
        },
        "id": "HU_UGiYZPO2i",
        "outputId": "e72667ab-1b75-4439-8599-183620c1fc8d"
      },
      "execution_count": 10,
      "outputs": [
        {
          "output_type": "stream",
          "name": "stdout",
          "text": [
            "9\n",
            "alpha.hwp\n",
            "bravo.doc\n",
            "charlie.xlxs\n",
            "delta.jpg\n",
            "echo.png\n",
            "foxtrot.ppt\n",
            "golf.pdf\n",
            "hotel.html\n",
            "india.txt\n",
            "['delta.jpg', 'echo.png']\n"
          ]
        }
      ]
    }
  ]
}